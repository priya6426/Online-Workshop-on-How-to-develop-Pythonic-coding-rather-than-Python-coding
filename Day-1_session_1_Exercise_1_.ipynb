{
  "nbformat": 4,
  "nbformat_minor": 0,
  "metadata": {
    "colab": {
      "name": "Day_1_session_1_Exercise_1_.ipynb",
      "provenance": [],
      "authorship_tag": "ABX9TyPMuvYMG19vUqx6PVJfyowz",
      "include_colab_link": true
    },
    "kernelspec": {
      "name": "python3",
      "display_name": "Python 3"
    }
  },
  "cells": [
    {
      "cell_type": "markdown",
      "metadata": {
        "id": "view-in-github",
        "colab_type": "text"
      },
      "source": [
        "<a href=\"https://colab.research.google.com/github/priya6426/Online-Workshop-on-How-to-develop-Pythonic-coding-rather-than-Python-coding/blob/master/Day-1_session_1_Exercise_1_.ipynb\" target=\"_parent\"><img src=\"https://colab.research.google.com/assets/colab-badge.svg\" alt=\"Open In Colab\"/></a>"
      ]
    },
    {
      "cell_type": "markdown",
      "metadata": {
        "id": "VuihlSvBEnWy",
        "colab_type": "text"
      },
      "source": [
        "#1.Find the compound interest for the given p,n,r\n"
      ]
    },
    {
      "cell_type": "code",
      "metadata": {
        "id": "_AI7Zr6UFful",
        "colab_type": "code",
        "colab": {
          "base_uri": "https://localhost:8080/",
          "height": 34
        },
        "outputId": "bbbb3529-fad0-489b-8347-16a331713d87"
      },
      "source": [
        "def compound_interest(principle, rate, n): \n",
        "\n",
        "  \n",
        "\n",
        "    # Calculates compound interest  \n",
        "\n",
        "    Amount = principle * (pow((1 +(n * rate) / 100), n)) \n",
        "\n",
        "    CI = Amount - principle \n",
        "\n",
        "    print(\"Compound interest is\", CI) \n",
        "\n",
        "  \n",
        "# Driver Code  \n",
        "\n",
        "compound_interest(10000, 10.25, 5)"
      ],
      "execution_count": null,
      "outputs": [
        {
          "output_type": "stream",
          "text": [
            "Compound interest is 69154.73816223144\n"
          ],
          "name": "stdout"
        }
      ]
    },
    {
      "cell_type": "markdown",
      "metadata": {
        "id": "ATEu87UdFnpY",
        "colab_type": "text"
      },
      "source": [
        "#2.Convert centegrade to farenheit"
      ]
    },
    {
      "cell_type": "code",
      "metadata": {
        "id": "zAIi2_ZTFqub",
        "colab_type": "code",
        "colab": {
          "base_uri": "https://localhost:8080/",
          "height": 50
        },
        "outputId": "d101894c-a01f-4fd4-f2ce-924a61af56d3"
      },
      "source": [
        "\n",
        "celsius = float(input(\"Enter temperature in celsius: \"))\n",
        "fahrenheit = (celsius * 9/5) + 32\n",
        "print('%.2f Celsius is: %0.2f Fahrenheit' %(celsius, fahrenheit))"
      ],
      "execution_count": null,
      "outputs": [
        {
          "output_type": "stream",
          "text": [
            "Enter temperature in celsius: 26\n",
            "26.00 Celsius is: 78.80 Fahrenheit\n"
          ],
          "name": "stdout"
        }
      ]
    },
    {
      "cell_type": "markdown",
      "metadata": {
        "id": "Q8Q9V55JF7Dm",
        "colab_type": "text"
      },
      "source": [
        "#3.Find the greater of two no's"
      ]
    },
    {
      "cell_type": "code",
      "metadata": {
        "id": "fpfBNt2PF9Cg",
        "colab_type": "code",
        "colab": {
          "base_uri": "https://localhost:8080/",
          "height": 34
        },
        "outputId": "63532128-17a2-4530-dfa3-88f7af3f5eea"
      },
      "source": [
        "\n",
        "\n",
        "  # Python Program to find Largest of two Numbers using if-else statements\n",
        "a = int(input(\"Enter the first number: \"))\n",
        "b = int(input(\"Enter the second number: \"))\n",
        "if(a >= b):\n",
        "  print(a, \"is greater\")\n",
        "else:\n",
        "  print(b, \"is greater\")"
      ],
      "execution_count": null,
      "outputs": [
        {
          "output_type": "stream",
          "text": [
            "Largest number among 5, 10, 15 and 20 is 20\n"
          ],
          "name": "stdout"
        }
      ]
    },
    {
      "cell_type": "markdown",
      "metadata": {
        "id": "BiTDwMg7FXGQ",
        "colab_type": "text"
      },
      "source": [
        "#4.Write a program for finding surface areas of cylinder and cone"
      ]
    },
    {
      "cell_type": "code",
      "metadata": {
        "id": "ZUwcUTKyEo_h",
        "colab_type": "code",
        "colab": {
          "base_uri": "https://localhost:8080/",
          "height": 50
        },
        "outputId": "5fed5f6a-4fb2-468c-cb15-813de24cf0e3"
      },
      "source": [
        "import math \n",
        "\n",
        "pi = math.pi \n",
        "# Function To Calculate Surface Area of Cone \n",
        "\n",
        "def surfacearea(r, s): \n",
        "\n",
        "    return pi * r * s + pi * r * r \n",
        "\n",
        "# Function To Calculate Total Surface Area \n",
        "# of Cylinder \n",
        "\n",
        "def totalsurfacearea(r, h): \n",
        "\n",
        "    tsurf_ar = (2 * pi * r * h) + (2 * pi * r * r) \n",
        "\n",
        "    return tsurf_ar \n",
        "  \n",
        "# Driver Code \n",
        "\n",
        "radius = float(5) \n",
        "\n",
        "height = float(12) \n",
        "\n",
        "slat_height = float(13) \n",
        "\n",
        "r = 5\n",
        "\n",
        "h = 8\n",
        "print( \"Surface Area Of Cone : \", surfacearea(radius, slat_height) )\n",
        "\n",
        "print(\"Total  Surface Area  Of Cylinder =  \",totalsurfacearea(r,h))"
      ],
      "execution_count": null,
      "outputs": [
        {
          "output_type": "stream",
          "text": [
            "Surface Area Of Cone :  282.7433388230814\n",
            "Total  Surface Area  Of Cylinder =   408.4070449666731\n"
          ],
          "name": "stdout"
        }
      ]
    },
    {
      "cell_type": "markdown",
      "metadata": {
        "id": "LPSTaKxZFG5P",
        "colab_type": "text"
      },
      "source": [
        "#5.Find the greatest of four nos ( using ‘and’ operator) using function."
      ]
    },
    {
      "cell_type": "code",
      "metadata": {
        "id": "kA0DTiiLGVO7",
        "colab_type": "code",
        "colab": {}
      },
      "source": [
        "n1 = 5\n",
        "\n",
        "n2 = 10\n",
        "\n",
        "n3 = 15\n",
        "\n",
        "n4 = 20\n",
        "\n",
        "  \n",
        "\n",
        "mx = (n1 if (n1 > n2 and n1 > n2 and n1 > n4)  \n",
        "\n",
        "         else (n2 if (n2 > n3 and n3 > n4)  \n",
        "\n",
        "         else (n3 if n3 > n4 else n4))) \n",
        "\n",
        "print(\"Largest number among \" + str(n1) + \", \" + \n",
        "\n",
        "            str(n2) + \", \" + str(n3) + \" and \" + \n",
        "\n",
        "            str(n4) + \" is \" + str(mx))"
      ],
      "execution_count": null,
      "outputs": []
    },
    {
      "cell_type": "markdown",
      "metadata": {
        "id": "JOTxTLxVHAwz",
        "colab_type": "text"
      },
      "source": [
        "#6.Write a menu program to perform the operations ( ODDorEven, Factorial, ODDNoUptoN, PrimeUptoN ) using functions for two nos with menu choice."
      ]
    },
    {
      "cell_type": "code",
      "metadata": {
        "id": "oynIBITeJU-g",
        "colab_type": "code",
        "colab": {
          "base_uri": "https://localhost:8080/",
          "height": 1000
        },
        "outputId": "c7a0bf84-6fe3-4a6b-d764-680801565a6a"
      },
      "source": [
        "def odd_even(num):\n",
        "  if num%2==0:\n",
        "    print(\"Result:The number is even\")\n",
        "  else:\n",
        "    print(\"Result:The number is odd\")\n",
        "\n",
        "def fact(num):\n",
        "  fact=1\n",
        "  if num==0:\n",
        "    print(\"Result:Factorial of 0 is 1\")\n",
        "  else:\n",
        "    for i in range(1,num+1):\n",
        "      fact=fact*i\n",
        "    print(\"Result:The factorial of\",num,\"is\",fact)\n",
        "\n",
        "def odd(num):\n",
        "  for i in range(0,num+1):\n",
        "    if (i%2)!=0:\n",
        "      print(i)\n",
        "\n",
        "def prime(num):\n",
        "  for num in range(1, num+1):\n",
        "    if num > 1:\n",
        "       for i in range(2, num):\n",
        "           if (num % i) == 0:\n",
        "               break\n",
        "       else:\n",
        "           print(num)\n",
        "\n",
        "loop=1\n",
        "choice=0\n",
        "while loop == 1:\n",
        "  print (\" \")\n",
        "  print (\"your options are:\")\n",
        "  print (\" \")\n",
        "  print(\"1) Find odd or even number\")\n",
        "  print(\"2) find factorial\")\n",
        "  print(\"3) find all odd number\")\n",
        "  print(\"4) find prime number\")\n",
        "  print(\"5) Exit\")\n",
        "    \n",
        "  print(\" \")\n",
        "  try:\n",
        "    choice = int(input(\"Choose your option: \"))\n",
        "  except:\n",
        "    print('please enter a valid number for option')\n",
        "    print(\" \")\n",
        "    print(\" \")\n",
        "\n",
        "  if choice==1:\n",
        "    number=int(input(\"enter the number:\"))\n",
        "    odd_even(number)\n",
        "  elif choice==2:\n",
        "    number=int(input(\"enter the number:\"))\n",
        "    fact(number)\n",
        "  elif choice==3:\n",
        "    number=int(input(\"enter the number:\"))\n",
        "    odd(number)\n",
        "  elif choice==4:\n",
        "    number=int(input(\"enter the number:\"))\n",
        "    prime(number)\n",
        "  elif choice == 5:\n",
        "    loop = 0\n",
        "  elif choice == 5:\n",
        "        loop = 0\n",
        "\n",
        "  else:\n",
        "    print(\"please choice a valid option from 1 to 5\")\n",
        "    choice=0\n",
        " "
      ],
      "execution_count": 1,
      "outputs": [
        {
          "output_type": "stream",
          "text": [
            " \n",
            "your options are:\n",
            " \n",
            "1) Find odd or even number\n",
            "2) find factorial\n",
            "3) find all odd number\n",
            "4) find prime number\n",
            "5) Exit\n",
            " \n",
            "Choose your option: 1\n",
            "enter the number:5\n",
            "Result:The number is odd\n",
            " \n",
            "your options are:\n",
            " \n",
            "1) Find odd or even number\n",
            "2) find factorial\n",
            "3) find all odd number\n",
            "4) find prime number\n",
            "5) Exit\n",
            " \n",
            "Choose your option: 2\n",
            "enter the number:4\n",
            "Result:The factorial of 4 is 24\n",
            " \n",
            "your options are:\n",
            " \n",
            "1) Find odd or even number\n",
            "2) find factorial\n",
            "3) find all odd number\n",
            "4) find prime number\n",
            "5) Exit\n",
            " \n",
            "Choose your option: 3\n",
            "enter the number:7\n",
            "1\n",
            "3\n",
            "5\n",
            "7\n",
            " \n",
            "your options are:\n",
            " \n",
            "1) Find odd or even number\n",
            "2) find factorial\n",
            "3) find all odd number\n",
            "4) find prime number\n",
            "5) Exit\n",
            " \n",
            "Choose your option: 4\n",
            "enter the number:23\n",
            "2\n",
            "3\n",
            "5\n",
            "7\n",
            "11\n",
            "13\n",
            "17\n",
            "19\n",
            "23\n",
            " \n",
            "your options are:\n",
            " \n",
            "1) Find odd or even number\n",
            "2) find factorial\n",
            "3) find all odd number\n",
            "4) find prime number\n",
            "5) Exit\n",
            " \n",
            "Choose your option: 5\n"
          ],
          "name": "stdout"
        }
      ]
    }
  ]
}