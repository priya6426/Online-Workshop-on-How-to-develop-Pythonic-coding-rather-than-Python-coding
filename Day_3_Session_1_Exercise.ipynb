{
  "nbformat": 4,
  "nbformat_minor": 0,
  "metadata": {
    "colab": {
      "name": "Day_3_Session_1_Exercise.ipynb",
      "provenance": [],
      "authorship_tag": "ABX9TyMvVjGnl/C+Ix6rlrGnTqZr",
      "include_colab_link": true
    },
    "kernelspec": {
      "name": "python3",
      "display_name": "Python 3"
    }
  },
  "cells": [
    {
      "cell_type": "markdown",
      "metadata": {
        "id": "view-in-github",
        "colab_type": "text"
      },
      "source": [
        "<a href=\"https://colab.research.google.com/github/priya6426/Online-Workshop-on-How-to-develop-Pythonic-coding-rather-than-Python-coding/blob/master/Day_3_Session_1_Exercise.ipynb\" target=\"_parent\"><img src=\"https://colab.research.google.com/assets/colab-badge.svg\" alt=\"Open In Colab\"/></a>"
      ]
    },
    {
      "cell_type": "markdown",
      "metadata": {
        "id": "8ce0m-UsbwVn",
        "colab_type": "text"
      },
      "source": [
        "#Write a Python program to find numbers between 100 and 400 (both included) which are divisable both by 5 or 7. The numbers obtained should be printed in a comma-separated sequence"
      ]
    },
    {
      "cell_type": "code",
      "metadata": {
        "id": "OkXUZGKoYhWJ",
        "colab_type": "code",
        "colab": {
          "base_uri": "https://localhost:8080/",
          "height": 34
        },
        "outputId": "d746e47e-4e7a-49e3-abc9-49f35367b1e5"
      },
      "source": [
        "\n",
        "a=[]\n",
        "for i in range(100,400):\n",
        "  if(i%5==0 and i%7==0):\n",
        "    a.append(str(i))\n",
        "print(','.join(a))"
      ],
      "execution_count": 1,
      "outputs": [
        {
          "output_type": "stream",
          "text": [
            "105,140,175,210,245,280,315,350,385\n"
          ],
          "name": "stdout"
        }
      ]
    },
    {
      "cell_type": "markdown",
      "metadata": {
        "id": "q9sShnZbb3jA",
        "colab_type": "text"
      },
      "source": [
        "#\n",
        "Write a Python program to find prime numbers between 200 and 600 (both included). The numbers obtained should be printed in a comma-separated sequence"
      ]
    },
    {
      "cell_type": "code",
      "metadata": {
        "id": "6Uc1YyNFZm6l",
        "colab_type": "code",
        "colab": {
          "base_uri": "https://localhost:8080/",
          "height": 54
        },
        "outputId": "afc97002-f6e9-44e8-d832-bce46491cb7b"
      },
      "source": [
        "a=[]\n",
        "for num1 in range(200, 600):\n",
        "      if num1 > 1:\n",
        "       for i in range(2, num1):\n",
        "           if (num1 % i) == 0:\n",
        "               break\n",
        "       else:\n",
        "              k=num1\n",
        "              a.append(str(num1))\n",
        "print(','.join(a))"
      ],
      "execution_count": 2,
      "outputs": [
        {
          "output_type": "stream",
          "text": [
            "211,223,227,229,233,239,241,251,257,263,269,271,277,281,283,293,307,311,313,317,331,337,347,349,353,359,367,373,379,383,389,397,401,409,419,421,431,433,439,443,449,457,461,463,467,479,487,491,499,503,509,521,523,541,547,557,563,569,571,577,587,593,599\n"
          ],
          "name": "stdout"
        }
      ]
    },
    {
      "cell_type": "markdown",
      "metadata": {
        "id": "zU246GxrZuOo",
        "colab_type": "text"
      },
      "source": [
        "\n",
        "#Write a Python program to find All Numbers which are Odd and Palindromes Between a Range of Numbers without using Recursion. The numbers obtained should be printed in a comma-separated sequence"
      ]
    },
    {
      "cell_type": "code",
      "metadata": {
        "id": "u1M0wCYBZuci",
        "colab_type": "code",
        "colab": {
          "base_uri": "https://localhost:8080/",
          "height": 67
        },
        "outputId": "8933de90-a5dc-43d5-c084-1260d75d9a02"
      },
      "source": [
        "a=[]\n",
        "n1=int(input('Enter the upper range'))\n",
        "n2=int(input(\"enter the lower range\"))\n",
        "for i in range(n1,n2):\n",
        "    if(i%2!=0):\n",
        "      temp=i\n",
        "      rev=0\n",
        "      while(temp>0):\n",
        "          rem=temp%10\n",
        "          rev=(rev*10)+rem\n",
        "          temp=temp//10\n",
        "      if(i==rev):\n",
        "        a.append(str(i))\n",
        "print(','.join(a))"
      ],
      "execution_count": 8,
      "outputs": [
        {
          "output_type": "stream",
          "text": [
            "Enter the upper range200\n",
            "enter the lower range100\n",
            "\n"
          ],
          "name": "stdout"
        }
      ]
    },
    {
      "cell_type": "markdown",
      "metadata": {
        "id": "Kpx8s81RcCrv",
        "colab_type": "text"
      },
      "source": [
        "#Write a Python Program to read a number n and print the series “5+10+…..+n = sum upto n ” . The numbers should be printed as they are shown in the quotes with sum of numbers upto n"
      ]
    },
    {
      "cell_type": "code",
      "metadata": {
        "id": "_hCsm_TQcCKP",
        "colab_type": "code",
        "colab": {
          "base_uri": "https://localhost:8080/",
          "height": 50
        },
        "outputId": "324e3ba5-1f46-47be-e67a-852098911b32"
      },
      "source": [
        "a=[]\n",
        "b=0\n",
        "n=int(input(\"Enter the value of n\"))\n",
        "while(b<n):\n",
        "  b=5+b\n",
        "  a.append(str(b))\n",
        "print('+'.join(a))"
      ],
      "execution_count": 5,
      "outputs": [
        {
          "output_type": "stream",
          "text": [
            "Enter the value of n25\n",
            "5+10+15+20+25\n"
          ],
          "name": "stdout"
        }
      ]
    }
  ]
}