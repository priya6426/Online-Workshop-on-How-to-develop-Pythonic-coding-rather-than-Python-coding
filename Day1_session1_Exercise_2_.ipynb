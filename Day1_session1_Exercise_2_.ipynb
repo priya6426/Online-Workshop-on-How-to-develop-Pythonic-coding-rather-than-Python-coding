{
  "nbformat": 4,
  "nbformat_minor": 0,
  "metadata": {
    "colab": {
      "name": "Day1_session1_Exercise_2_.ipynb",
      "provenance": [],
      "authorship_tag": "ABX9TyOH92A99LCfq9ABmiNOtlWR",
      "include_colab_link": true
    },
    "kernelspec": {
      "name": "python3",
      "display_name": "Python 3"
    }
  },
  "cells": [
    {
      "cell_type": "markdown",
      "metadata": {
        "id": "view-in-github",
        "colab_type": "text"
      },
      "source": [
        "<a href=\"https://colab.research.google.com/github/priya6426/Online-Workshop-on-How-to-develop-Pythonic-coding-rather-than-Python-coding/blob/master/Day1_session1_Exercise_2_.ipynb\" target=\"_parent\"><img src=\"https://colab.research.google.com/assets/colab-badge.svg\" alt=\"Open In Colab\"/></a>"
      ]
    },
    {
      "cell_type": "markdown",
      "metadata": {
        "id": "XO_jVAJB7-jn",
        "colab_type": "text"
      },
      "source": [
        "#1.Write a program to print the triangle\n",
        "#i/p 4\n",
        "#1\n",
        "#2 3\n",
        "#3 4 5\n",
        "#4 5 6 7\n"
      ]
    },
    {
      "cell_type": "code",
      "metadata": {
        "id": "9Wiimv0Q8NJH",
        "colab_type": "code",
        "colab": {
          "base_uri": "https://localhost:8080/",
          "height": 101
        },
        "outputId": "a6281f7b-dec2-4099-b10c-a938c463daa5"
      },
      "source": [
        "\n",
        "n=4;\n",
        "for i in range(0,n+1):\n",
        "  j=i\n",
        "  for k in range(i):    \n",
        "    print(j,end=\" \")\n",
        "    j+=1\n",
        " \n",
        "  print(\"\")"
      ],
      "execution_count": 1,
      "outputs": [
        {
          "output_type": "stream",
          "text": [
            "\n",
            "1 \n",
            "2 3 \n",
            "3 4 5 \n",
            "4 5 6 7 \n"
          ],
          "name": "stdout"
        }
      ]
    },
    {
      "cell_type": "markdown",
      "metadata": {
        "id": "Dyz5hlGHqsYz",
        "colab_type": "text"
      },
      "source": [
        "#2 Enter number 4\n",
        "\n",
        "#*\n",
        "#* *\n",
        "#* * *\n",
        "#* * * *\n",
        "\n",
        "\n"
      ]
    },
    {
      "cell_type": "code",
      "metadata": {
        "id": "qZo-S4yt3ISZ",
        "colab_type": "code",
        "colab": {
          "base_uri": "https://localhost:8080/",
          "height": 101
        },
        "outputId": "5e0e3763-2843-429d-faa5-23cce7928605"
      },
      "source": [
        "\n",
        "rows = int(input(\"enter number\"))\n",
        "for j in range(1, rows+1):\n",
        "    print(\"* \" * j)"
      ],
      "execution_count": null,
      "outputs": [
        {
          "output_type": "stream",
          "text": [
            "enter number4\n",
            "* \n",
            "* * \n",
            "* * * \n",
            "* * * * \n"
          ],
          "name": "stdout"
        }
      ]
    },
    {
      "cell_type": "markdown",
      "metadata": {
        "id": "uMVGfW1m8s-q",
        "colab_type": "text"
      },
      "source": [
        "#3.Write a program to print the triangle\n",
        "#i/p 5\n",
        "#5\n",
        "#4 5\n",
        "#3 4 5\n",
        "#2 3 4 5\n",
        "#1 2 3 4 5"
      ]
    },
    {
      "cell_type": "code",
      "metadata": {
        "id": "8fkm49y088UQ",
        "colab_type": "code",
        "colab": {
          "base_uri": "https://localhost:8080/",
          "height": 101
        },
        "outputId": "94f44690-4795-4e62-d4e6-9b916f0315c7"
      },
      "source": [
        "for i in range(5,0,-1):\n",
        "    for j in range(i,6):\n",
        "        print(j,end='')\n",
        "    print()"
      ],
      "execution_count": 2,
      "outputs": [
        {
          "output_type": "stream",
          "text": [
            "5\n",
            "45\n",
            "345\n",
            "2345\n",
            "12345\n"
          ],
          "name": "stdout"
        }
      ]
    },
    {
      "cell_type": "markdown",
      "metadata": {
        "id": "GLCyL2HPQakI",
        "colab_type": "text"
      },
      "source": [
        "#4.Write a program to print the triangle:\n",
        "#i/p 5\n",
        "#5 4 3 2 1\n",
        "#4 3 2 1\n",
        "#3 2 1\n",
        "#2 1\n",
        "#1"
      ]
    },
    {
      "cell_type": "code",
      "metadata": {
        "id": "n3SASpl1QcU4",
        "colab_type": "code",
        "colab": {
          "base_uri": "https://localhost:8080/",
          "height": 118
        },
        "outputId": "2cd2368e-d781-4ba4-a17a-3ad6ee613a69"
      },
      "source": [
        "rows = 5\n",
        "for i in range(0, rows + 1):\n",
        "    for j in range(rows - i, 0, -1):\n",
        "        print(j, end=' ')\n",
        "    print()"
      ],
      "execution_count": null,
      "outputs": [
        {
          "output_type": "stream",
          "text": [
            "5 4 3 2 1 \n",
            "4 3 2 1 \n",
            "3 2 1 \n",
            "2 1 \n",
            "1 \n",
            "\n"
          ],
          "name": "stdout"
        }
      ]
    },
    {
      "cell_type": "markdown",
      "metadata": {
        "id": "4bdxutKn9MVO",
        "colab_type": "text"
      },
      "source": [
        "#5.Write a program to print the triangle:\n",
        "#i/p 4\n",
        "#1 2 3 4\n",
        "#2 3 4\n",
        "#3 4\n",
        "#4\n",
        "#3 4\n",
        "#2 3 4\n",
        "#1 2 3 4"
      ]
    },
    {
      "cell_type": "code",
      "metadata": {
        "id": "QedCnAzp9X4C",
        "colab_type": "code",
        "colab": {
          "base_uri": "https://localhost:8080/",
          "height": 134
        },
        "outputId": "97006ef4-8008-497a-8797-6efa6622c82a"
      },
      "source": [
        "n=4;\n",
        " \n",
        "for i in range(0,n,1): \n",
        "  for j in range(i+1,n+1,1):     \n",
        "    print(j,end=\" \")\n",
        "  print(\"\") \n",
        " \n",
        "for i in range(n-1,0,-1): \n",
        "  for j in range(i,n+1):     \n",
        "    print(j,end=\" \")\n",
        "  print(\" \")"
      ],
      "execution_count": 3,
      "outputs": [
        {
          "output_type": "stream",
          "text": [
            "1 2 3 4 \n",
            "2 3 4 \n",
            "3 4 \n",
            "4 \n",
            "3 4  \n",
            "2 3 4  \n",
            "1 2 3 4  \n"
          ],
          "name": "stdout"
        }
      ]
    },
    {
      "cell_type": "markdown",
      "metadata": {
        "id": "hE3miIPM7ite",
        "colab_type": "text"
      },
      "source": [
        "#6.Find the length of a string without using len functions"
      ]
    },
    {
      "cell_type": "code",
      "metadata": {
        "id": "bn5ts9qS7oLA",
        "colab_type": "code",
        "colab": {
          "base_uri": "https://localhost:8080/",
          "height": 50
        },
        "outputId": "482bb403-15bb-4477-91c1-b8f87221b0a0"
      },
      "source": [
        "str = input(\"Enter a string: \")\n",
        "\n",
        "# counter variable to count the character in a string\n",
        "counter = 0\n",
        "for s in str:\n",
        "      counter = counter+1\n",
        "print(\"Length of the input string is:\", counter)"
      ],
      "execution_count": null,
      "outputs": [
        {
          "output_type": "stream",
          "text": [
            "Enter a string: priya\n",
            "Length of the input string is: 5\n"
          ],
          "name": "stdout"
        }
      ]
    },
    {
      "cell_type": "markdown",
      "metadata": {
        "id": "D96IlxDp8DjC",
        "colab_type": "text"
      },
      "source": [
        "#7.Find the no of words and characters in a string"
      ]
    },
    {
      "cell_type": "code",
      "metadata": {
        "id": "-baqaFNs8EvF",
        "colab_type": "code",
        "colab": {
          "base_uri": "https://localhost:8080/",
          "height": 67
        },
        "outputId": "bde626ff-04e1-477b-d985-110b76a8f8fa"
      },
      "source": [
        "word_count = 0\n",
        "char_count = 0\n",
        "\n",
        "#2\n",
        "usr_input = input(\"Enter a string : \")\n",
        "\n",
        "#3\n",
        "split_string = usr_input.split()\n",
        "\n",
        "#4\n",
        "word_count = len(split_string)\n",
        "\n",
        "#5\n",
        "for word in split_string:\n",
        "    #6\n",
        "    char_count += len(word)\n",
        "\n",
        "#7\n",
        "print(\"Total words : {}\".format(word_count))\n",
        "print(\"Total characters : {}\".format(char_count))"
      ],
      "execution_count": null,
      "outputs": [
        {
          "output_type": "stream",
          "text": [
            "Enter a string : priya nagari\n",
            "Total words : 2\n",
            "Total characters : 11\n"
          ],
          "name": "stdout"
        }
      ]
    },
    {
      "cell_type": "markdown",
      "metadata": {
        "id": "f_gBp7re9Ltb",
        "colab_type": "text"
      },
      "source": [
        "#8.Find the no of words and characters in a string"
      ]
    },
    {
      "cell_type": "code",
      "metadata": {
        "id": "n402HLw-9N8K",
        "colab_type": "code",
        "colab": {
          "base_uri": "https://localhost:8080/",
          "height": 67
        },
        "outputId": "9ab62981-7626-43bb-b989-f8774e812925"
      },
      "source": [
        "# define string\n",
        "string = input(\"enter main string \")\n",
        "substring = input(\"enter substring \")\n",
        "\n",
        "count = string.count(substring)\n",
        "\n",
        "# print count\n",
        "print(\"The count is:\", count)"
      ],
      "execution_count": null,
      "outputs": [
        {
          "output_type": "stream",
          "text": [
            "enter main string hiii\n",
            "enter substring hiii\n",
            "The count is: 1\n"
          ],
          "name": "stdout"
        }
      ]
    }
  ]
}