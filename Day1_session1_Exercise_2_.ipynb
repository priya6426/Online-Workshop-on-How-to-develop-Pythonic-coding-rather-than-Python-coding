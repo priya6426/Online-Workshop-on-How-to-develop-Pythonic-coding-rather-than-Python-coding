{
  "nbformat": 4,
  "nbformat_minor": 0,
  "metadata": {
    "colab": {
      "name": "Day1_session1_Exercise_2_.ipynb",
      "provenance": [],
      "authorship_tag": "ABX9TyPieBNOqgW7/15U5rXSHJAr",
      "include_colab_link": true
    },
    "kernelspec": {
      "name": "python3",
      "display_name": "Python 3"
    }
  },
  "cells": [
    {
      "cell_type": "markdown",
      "metadata": {
        "id": "view-in-github",
        "colab_type": "text"
      },
      "source": [
        "<a href=\"https://colab.research.google.com/github/priya6426/Online-Workshop-on-How-to-develop-Pythonic-coding-rather-than-Python-coding/blob/master/Day1_session1_Exercise_2_.ipynb\" target=\"_parent\"><img src=\"https://colab.research.google.com/assets/colab-badge.svg\" alt=\"Open In Colab\"/></a>"
      ]
    },
    {
      "cell_type": "markdown",
      "metadata": {
        "id": "Dyz5hlGHqsYz",
        "colab_type": "text"
      },
      "source": [
        "#2.\n",
        "\n"
      ]
    },
    {
      "cell_type": "code",
      "metadata": {
        "id": "qZo-S4yt3ISZ",
        "colab_type": "code",
        "colab": {
          "base_uri": "https://localhost:8080/",
          "height": 101
        },
        "outputId": "5e0e3763-2843-429d-faa5-23cce7928605"
      },
      "source": [
        "\n",
        "rows = int(input(\"enter number\"))\n",
        "for j in range(1, rows+1):\n",
        "    print(\"* \" * j)"
      ],
      "execution_count": 14,
      "outputs": [
        {
          "output_type": "stream",
          "text": [
            "enter number4\n",
            "* \n",
            "* * \n",
            "* * * \n",
            "* * * * \n"
          ],
          "name": "stdout"
        }
      ]
    },
    {
      "cell_type": "markdown",
      "metadata": {
        "id": "GLCyL2HPQakI",
        "colab_type": "text"
      },
      "source": [
        "#4."
      ]
    },
    {
      "cell_type": "code",
      "metadata": {
        "id": "n3SASpl1QcU4",
        "colab_type": "code",
        "colab": {
          "base_uri": "https://localhost:8080/",
          "height": 118
        },
        "outputId": "2cd2368e-d781-4ba4-a17a-3ad6ee613a69"
      },
      "source": [
        "rows = 5\n",
        "for i in range(0, rows + 1):\n",
        "    for j in range(rows - i, 0, -1):\n",
        "        print(j, end=' ')\n",
        "    print()"
      ],
      "execution_count": 32,
      "outputs": [
        {
          "output_type": "stream",
          "text": [
            "5 4 3 2 1 \n",
            "4 3 2 1 \n",
            "3 2 1 \n",
            "2 1 \n",
            "1 \n",
            "\n"
          ],
          "name": "stdout"
        }
      ]
    },
    {
      "cell_type": "markdown",
      "metadata": {
        "id": "hE3miIPM7ite",
        "colab_type": "text"
      },
      "source": [
        "#6."
      ]
    },
    {
      "cell_type": "code",
      "metadata": {
        "id": "bn5ts9qS7oLA",
        "colab_type": "code",
        "colab": {
          "base_uri": "https://localhost:8080/",
          "height": 50
        },
        "outputId": "482bb403-15bb-4477-91c1-b8f87221b0a0"
      },
      "source": [
        "str = input(\"Enter a string: \")\n",
        "\n",
        "# counter variable to count the character in a string\n",
        "counter = 0\n",
        "for s in str:\n",
        "      counter = counter+1\n",
        "print(\"Length of the input string is:\", counter)"
      ],
      "execution_count": 19,
      "outputs": [
        {
          "output_type": "stream",
          "text": [
            "Enter a string: priya\n",
            "Length of the input string is: 5\n"
          ],
          "name": "stdout"
        }
      ]
    },
    {
      "cell_type": "markdown",
      "metadata": {
        "id": "D96IlxDp8DjC",
        "colab_type": "text"
      },
      "source": [
        "#7."
      ]
    },
    {
      "cell_type": "code",
      "metadata": {
        "id": "-baqaFNs8EvF",
        "colab_type": "code",
        "colab": {
          "base_uri": "https://localhost:8080/",
          "height": 67
        },
        "outputId": "bde626ff-04e1-477b-d985-110b76a8f8fa"
      },
      "source": [
        "word_count = 0\n",
        "char_count = 0\n",
        "\n",
        "#2\n",
        "usr_input = input(\"Enter a string : \")\n",
        "\n",
        "#3\n",
        "split_string = usr_input.split()\n",
        "\n",
        "#4\n",
        "word_count = len(split_string)\n",
        "\n",
        "#5\n",
        "for word in split_string:\n",
        "    #6\n",
        "    char_count += len(word)\n",
        "\n",
        "#7\n",
        "print(\"Total words : {}\".format(word_count))\n",
        "print(\"Total characters : {}\".format(char_count))"
      ],
      "execution_count": 34,
      "outputs": [
        {
          "output_type": "stream",
          "text": [
            "Enter a string : priya nagari\n",
            "Total words : 2\n",
            "Total characters : 11\n"
          ],
          "name": "stdout"
        }
      ]
    },
    {
      "cell_type": "markdown",
      "metadata": {
        "id": "f_gBp7re9Ltb",
        "colab_type": "text"
      },
      "source": [
        "#8."
      ]
    },
    {
      "cell_type": "code",
      "metadata": {
        "id": "n402HLw-9N8K",
        "colab_type": "code",
        "colab": {
          "base_uri": "https://localhost:8080/",
          "height": 67
        },
        "outputId": "9ab62981-7626-43bb-b989-f8774e812925"
      },
      "source": [
        "# define string\n",
        "string = input(\"enter main string \")\n",
        "substring = input(\"enter substring \")\n",
        "\n",
        "count = string.count(substring)\n",
        "\n",
        "# print count\n",
        "print(\"The count is:\", count)"
      ],
      "execution_count": 26,
      "outputs": [
        {
          "output_type": "stream",
          "text": [
            "enter main string hiii\n",
            "enter substring hiii\n",
            "The count is: 1\n"
          ],
          "name": "stdout"
        }
      ]
    }
  ]
}