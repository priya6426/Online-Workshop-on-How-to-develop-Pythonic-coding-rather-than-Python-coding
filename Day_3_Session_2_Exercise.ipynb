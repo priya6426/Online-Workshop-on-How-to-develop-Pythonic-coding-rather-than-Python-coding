{
  "nbformat": 4,
  "nbformat_minor": 0,
  "metadata": {
    "colab": {
      "name": "Day_3_Session_2_Exercise.ipynb",
      "provenance": [],
      "authorship_tag": "ABX9TyNzD4PgVE23XxQddtPbx0Zn",
      "include_colab_link": true
    },
    "kernelspec": {
      "name": "python3",
      "display_name": "Python 3"
    }
  },
  "cells": [
    {
      "cell_type": "markdown",
      "metadata": {
        "id": "view-in-github",
        "colab_type": "text"
      },
      "source": [
        "<a href=\"https://colab.research.google.com/github/priya6426/Online-Workshop-on-How-to-develop-Pythonic-coding-rather-than-Python-coding/blob/master/Day_3_Session_2_Exercise.ipynb\" target=\"_parent\"><img src=\"https://colab.research.google.com/assets/colab-badge.svg\" alt=\"Open In Colab\"/></a>"
      ]
    },
    {
      "cell_type": "markdown",
      "metadata": {
        "id": "Zaeiw2gcdt4e",
        "colab_type": "text"
      },
      "source": [
        "#Write a Python Program to Print Multiplication Table of a number which got through keyboard"
      ]
    },
    {
      "cell_type": "code",
      "metadata": {
        "id": "1Isq4tn2dJde",
        "colab_type": "code",
        "colab": {
          "base_uri": "https://localhost:8080/",
          "height": 50
        },
        "outputId": "ee30dc3e-3002-4935-93b6-54d37c9f8579"
      },
      "source": [
        "a=[]\n",
        "n=int(input(\"enter the value of n\"))\n",
        "for i in range(1,11):\n",
        "  b=i*n\n",
        "  a.append(str(b))\n",
        "print(','.join(a))"
      ],
      "execution_count": 1,
      "outputs": [
        {
          "output_type": "stream",
          "text": [
            "enter the value of n25\n",
            "25,50,75,100,125,150,175,200,225,250\n"
          ],
          "name": "stdout"
        }
      ]
    },
    {
      "cell_type": "markdown",
      "metadata": {
        "id": "nngFUIqjdqvL",
        "colab_type": "text"
      },
      "source": [
        "#Write a Python Program to find the Armstrong Numbers between 1 and 2000"
      ]
    },
    {
      "cell_type": "code",
      "metadata": {
        "id": "R52ldpdOeJRU",
        "colab_type": "code",
        "colab": {
          "base_uri": "https://localhost:8080/",
          "height": 34
        },
        "outputId": "7b7f67c5-d968-4605-e507-504f0c99782e"
      },
      "source": [
        "a=[]\n",
        "for i in range(1,2001):\n",
        " temp=i\n",
        " d=0\n",
        " l=0\n",
        " s=0\n",
        " while(temp>0):\n",
        "  temp=temp//10\n",
        "  d=d+1\n",
        " temp=i\n",
        " while(temp>0):\n",
        "  l=temp%10\n",
        "  s=s+l**d\n",
        "  temp=temp//10\n",
        " if(s==i):\n",
        "  a.append(str(i))\n",
        "print(a)"
      ],
      "execution_count": 2,
      "outputs": [
        {
          "output_type": "stream",
          "text": [
            "['1', '2', '3', '4', '5', '6', '7', '8', '9', '153', '370', '371', '407', '1634']\n"
          ],
          "name": "stdout"
        }
      ]
    },
    {
      "cell_type": "markdown",
      "metadata": {
        "id": "gAxAxmHeeS4q",
        "colab_type": "text"
      },
      "source": [
        ""
      ]
    },
    {
      "cell_type": "markdown",
      "metadata": {
        "id": "yvG1q14OegSW",
        "colab_type": "text"
      },
      "source": [
        "#Write a python program to get the list of tuples (rollno, name) for n students by getting rollno and name through keyboard. Sort and print them as rollno wise and name wise both ascending and descending as well as alphabetical and dealphabetical orders"
      ]
    },
    {
      "cell_type": "code",
      "metadata": {
        "id": "bq1zuHP-eWum",
        "colab_type": "code",
        "colab": {
          "base_uri": "https://localhost:8080/",
          "height": 286
        },
        "outputId": "a00c9fa1-031d-4521-ac1a-c4613200cb35"
      },
      "source": [
        "a=[]\n",
        "def inp():\n",
        "  rolno=input(\"enter the rolno\")\n",
        "  name=input(\"enter the name\")\n",
        "  return(rolno,name)\n",
        "n=int(input(\"Enter the value of n\"))\n",
        "for i in range(1,n+1):\n",
        "  a.append(inp())\n",
        "print(a)\n",
        "a.sort(key=lambda i:i[0])\n",
        "print(f'According to Rollno:Ascending order:{a}')\n",
        "print(f'According to Rollno:Descending order:{a[::-1]}')\n",
        "a.sort(key=lambda i:i[1])\n",
        "print(f'According to Name:Alphabeticallyorder:{a}')\n",
        "print(f'According to Name:Dealphabetically order:{a[::-1]}')"
      ],
      "execution_count": 3,
      "outputs": [
        {
          "output_type": "stream",
          "text": [
            "Enter the value of n5\n",
            "enter the rolno2\n",
            "enter the namePRIYA\n",
            "enter the rolno5\n",
            "enter the namePOOJA\n",
            "enter the rolno6\n",
            "enter the namePRATIBHA\n",
            "enter the rolno9\n",
            "enter the namejaya\n",
            "enter the rolno10\n",
            "enter the namevani\n",
            "[('2', 'PRIYA'), ('5', 'POOJA'), ('6', 'PRATIBHA'), ('9', 'jaya'), ('10', 'vani')]\n",
            "According to Rollno:Ascending order:[('10', 'vani'), ('2', 'PRIYA'), ('5', 'POOJA'), ('6', 'PRATIBHA'), ('9', 'jaya')]\n",
            "According to Rollno:Descending order:[('9', 'jaya'), ('6', 'PRATIBHA'), ('5', 'POOJA'), ('2', 'PRIYA'), ('10', 'vani')]\n",
            "According to Name:Alphabeticallyorder:[('5', 'POOJA'), ('6', 'PRATIBHA'), ('2', 'PRIYA'), ('9', 'jaya'), ('10', 'vani')]\n",
            "According to Name:Dealphabetically order:[('10', 'vani'), ('9', 'jaya'), ('2', 'PRIYA'), ('6', 'PRATIBHA'), ('5', 'POOJA')]\n"
          ],
          "name": "stdout"
        }
      ]
    },
    {
      "cell_type": "markdown",
      "metadata": {
        "id": "blwWewfYexKq",
        "colab_type": "text"
      },
      "source": [
        "#Python Program to Detect if Two Strings are Anagrams ( They are the two strings which have same length and same words which may be different in their order)"
      ]
    },
    {
      "cell_type": "code",
      "metadata": {
        "id": "BY2IDL04e490",
        "colab_type": "code",
        "colab": {
          "base_uri": "https://localhost:8080/",
          "height": 67
        },
        "outputId": "e9cd04a8-5d82-467a-e485-777ee3f1231d"
      },
      "source": [
        "s=input(\"Enter the first string\")\n",
        "s2=input(\"Enter the second string\")\n",
        "if(sorted(s)==sorted(s2)):\n",
        "  print(\"Strings are anagram\")\n",
        "else:\n",
        "  print(\"strings arent anagram\")"
      ],
      "execution_count": 4,
      "outputs": [
        {
          "output_type": "stream",
          "text": [
            "Enter the first stringpriya \n",
            "Enter the second stringnagari\n",
            "strings arent anagram\n"
          ],
          "name": "stdout"
        }
      ]
    }
  ]
}