{
  "nbformat": 4,
  "nbformat_minor": 0,
  "metadata": {
    "colab": {
      "name": "Day_1_session_2_Worked_out_Examples.ipynb",
      "provenance": [],
      "authorship_tag": "ABX9TyP8KZyKuxSM7/ISd9th1C07",
      "include_colab_link": true
    },
    "kernelspec": {
      "name": "python3",
      "display_name": "Python 3"
    }
  },
  "cells": [
    {
      "cell_type": "markdown",
      "metadata": {
        "id": "view-in-github",
        "colab_type": "text"
      },
      "source": [
        "<a href=\"https://colab.research.google.com/github/priya6426/Online-Workshop-on-How-to-develop-Pythonic-coding-rather-than-Python-coding/blob/master/Day_1_session_2_Worked_out_Examples.ipynb\" target=\"_parent\"><img src=\"https://colab.research.google.com/assets/colab-badge.svg\" alt=\"Open In Colab\"/></a>"
      ]
    },
    {
      "cell_type": "code",
      "metadata": {
        "id": "QRXSs85z1IkX",
        "colab_type": "code",
        "colab": {}
      },
      "source": [
        ""
      ],
      "execution_count": null,
      "outputs": []
    },
    {
      "cell_type": "markdown",
      "metadata": {
        "id": "Dfp-KQjQ1vY3",
        "colab_type": "text"
      },
      "source": [
        "#Python Program to find the factorial of a number using loop."
      ]
    },
    {
      "cell_type": "code",
      "metadata": {
        "id": "ECgw7eNX12X3",
        "colab_type": "code",
        "colab": {
          "base_uri": "https://localhost:8080/",
          "height": 67
        },
        "outputId": "b9f2b6ef-0667-4778-98e7-4879a2738149"
      },
      "source": [
        "n=int(input(\"Enter number:\"))\n",
        "fact=1\n",
        "\n",
        "while(n>0):\n",
        "    fact=fact*n\n",
        "    n=n-1\n",
        "print(\"Factorial of the number is: \")\n",
        "print(fact)"
      ],
      "execution_count": 1,
      "outputs": [
        {
          "output_type": "stream",
          "text": [
            "Enter number:8\n",
            "Factorial of the number is: \n",
            "40320\n"
          ],
          "name": "stdout"
        }
      ]
    },
    {
      "cell_type": "markdown",
      "metadata": {
        "id": "eDOM6Jc62EGI",
        "colab_type": "text"
      },
      "source": [
        "#Python Program to reverse a number using loop"
      ]
    },
    {
      "cell_type": "code",
      "metadata": {
        "id": "ByTTEJIc2R-c",
        "colab_type": "code",
        "colab": {
          "base_uri": "https://localhost:8080/",
          "height": 67
        },
        "outputId": "a2f278a0-7bdb-4ddc-d944-28a0339b9de9"
      },
      "source": [
        "r=0\n",
        "n=int(input(\"Enter a number: \"))\n",
        "while(n>0):\n",
        "    dig=n%10\n",
        "    r=r*10+dig\n",
        "    n=n//10\n",
        "print(\"The reversed no  is:\")\n",
        "print(r)"
      ],
      "execution_count": 2,
      "outputs": [
        {
          "output_type": "stream",
          "text": [
            "Enter a number: 2568\n",
            "The reversed no  is:\n",
            "8652\n"
          ],
          "name": "stdout"
        }
      ]
    },
    {
      "cell_type": "markdown",
      "metadata": {
        "id": "eoLS1PdF2Y-g",
        "colab_type": "text"
      },
      "source": [
        "#Python program to construct the following pattern, using a nested for loop."
      ]
    },
    {
      "cell_type": "code",
      "metadata": {
        "id": "it5f42wd2d5-",
        "colab_type": "code",
        "colab": {
          "base_uri": "https://localhost:8080/",
          "height": 185
        },
        "outputId": "8e7202f3-d6da-4169-8ce8-f851eb78b1fa"
      },
      "source": [
        "n=5;\n",
        "for i in range(n):\n",
        "    for j in range(i):\n",
        "        print ('* ', end=\"\")\n",
        "    print('')\n",
        "\n",
        "for i in range(n,0,-1):\n",
        "    for j in range(i):\n",
        "        print('* ', end=\"\")\n",
        "    print('')"
      ],
      "execution_count": 3,
      "outputs": [
        {
          "output_type": "stream",
          "text": [
            "\n",
            "* \n",
            "* * \n",
            "* * * \n",
            "* * * * \n",
            "* * * * * \n",
            "* * * * \n",
            "* * * \n",
            "* * \n",
            "* \n"
          ],
          "name": "stdout"
        }
      ]
    },
    {
      "cell_type": "markdown",
      "metadata": {
        "id": "4RADjym52jt5",
        "colab_type": "text"
      },
      "source": [
        "#Python Program to replace all occurrences of ‘a’ with ‘$’ in a string"
      ]
    },
    {
      "cell_type": "code",
      "metadata": {
        "id": "88KcbOxt2pm5",
        "colab_type": "code",
        "colab": {
          "base_uri": "https://localhost:8080/",
          "height": 67
        },
        "outputId": "61ccdacc-b731-4f55-a69e-ebaad005de7d"
      },
      "source": [
        "string=input(\"Enter string:\")\n",
        "string=string.replace('a','$')\n",
        "string=string.replace('A','$')\n",
        "print(\"Modified string:\")\n",
        "print(string)"
      ],
      "execution_count": 4,
      "outputs": [
        {
          "output_type": "stream",
          "text": [
            "Enter string:happy always\n",
            "Modified string:\n",
            "h$ppy $lw$ys\n"
          ],
          "name": "stdout"
        }
      ]
    },
    {
      "cell_type": "markdown",
      "metadata": {
        "id": "zAJH1Trn208r",
        "colab_type": "text"
      },
      "source": [
        "#Python Program to remove the nth index character from a non-empty string."
      ]
    },
    {
      "cell_type": "code",
      "metadata": {
        "id": "zvz-Xjit25AH",
        "colab_type": "code",
        "colab": {
          "base_uri": "https://localhost:8080/",
          "height": 84
        },
        "outputId": "2bbac240-c415-435c-95ad-ac371aee9c32"
      },
      "source": [
        "def remove(string, n):  \n",
        "      first = string[:n]   \n",
        "      last = string[n+1:]  \n",
        "      return first + last\n",
        "string=input(\"Enter the sring:\")\n",
        "n=int(input(\"Enter the index of the character to remove:\"))\n",
        "print(\"Modified string:\")\n",
        "print(remove(string, n))"
      ],
      "execution_count": 5,
      "outputs": [
        {
          "output_type": "stream",
          "text": [
            "Enter the sring:happy\n",
            "Enter the index of the character to remove:2\n",
            "Modified string:\n",
            "hapy\n"
          ],
          "name": "stdout"
        }
      ]
    },
    {
      "cell_type": "markdown",
      "metadata": {
        "id": "FZ94nHr23COh",
        "colab_type": "text"
      },
      "source": [
        "#Python Program to detect if two strings are anagrams."
      ]
    },
    {
      "cell_type": "code",
      "metadata": {
        "id": "iPhT96bJ3Gbk",
        "colab_type": "code",
        "colab": {
          "base_uri": "https://localhost:8080/",
          "height": 67
        },
        "outputId": "c348fc78-8d9f-4426-b41a-5b183c9c999a"
      },
      "source": [
        "s1=input(\"Enter first string:\")\n",
        "s2=input(\"Enter second string:\")\n",
        "if(sorted(s1)==sorted(s2)):\n",
        "      print(\"The strings are anagrams.\")\n",
        "else:\n",
        "      print(\"The strings aren't anagrams.\")"
      ],
      "execution_count": 6,
      "outputs": [
        {
          "output_type": "stream",
          "text": [
            "Enter first string:hello\n",
            "Enter second string:happy\n",
            "The strings aren't anagrams.\n"
          ],
          "name": "stdout"
        }
      ]
    },
    {
      "cell_type": "markdown",
      "metadata": {
        "id": "ENfOft183R4O",
        "colab_type": "text"
      },
      "source": [
        "#Python Program to form a string where the first character and the last character have been exchanged."
      ]
    },
    {
      "cell_type": "code",
      "metadata": {
        "id": "qcg8VDjO3WG_",
        "colab_type": "code",
        "colab": {
          "base_uri": "https://localhost:8080/",
          "height": 67
        },
        "outputId": "b7330a69-7327-45d2-f8a6-8e55ec51e2e1"
      },
      "source": [
        "def change(string):\n",
        "      return string[-1:] + string[1:-1] + string[:1]\n",
        "string=input(\"Enter string:\")\n",
        "print(\"Modified string:\")\n",
        "print(change(string))"
      ],
      "execution_count": 7,
      "outputs": [
        {
          "output_type": "stream",
          "text": [
            "Enter string:hey\n",
            "Modified string:\n",
            "yeh\n"
          ],
          "name": "stdout"
        }
      ]
    },
    {
      "cell_type": "markdown",
      "metadata": {
        "id": "8DvyNOMJ3hIq",
        "colab_type": "text"
      },
      "source": [
        "#Python Program to count number of vowels from a non-empty string."
      ]
    },
    {
      "cell_type": "code",
      "metadata": {
        "id": "ncCnBJe43jtT",
        "colab_type": "code",
        "colab": {
          "base_uri": "https://localhost:8080/",
          "height": 67
        },
        "outputId": "c4de000c-5ed8-4734-a275-96fb918f0167"
      },
      "source": [
        "\n",
        "string=input(\"Enter string:\")\n",
        "vowels=0\n",
        "for i in string:\n",
        "      if(i=='a' or i=='e' or i=='i' or i=='o' or i=='u' or i=='A' or i=='E' or i=='I' or i=='O' or i=='U'):\n",
        "            vowels=vowels+1\n",
        "print(\"Number of vowels are:\")\n",
        "print(vowels)"
      ],
      "execution_count": 8,
      "outputs": [
        {
          "output_type": "stream",
          "text": [
            "Enter string:hello radha!\n",
            "Number of vowels are:\n",
            "4\n"
          ],
          "name": "stdout"
        }
      ]
    },
    {
      "cell_type": "markdown",
      "metadata": {
        "id": "PgzVcWSO3wsz",
        "colab_type": "text"
      },
      "source": [
        "#Program for Divide by zero error detection."
      ]
    },
    {
      "cell_type": "code",
      "metadata": {
        "id": "_KaSg2Uw4DVP",
        "colab_type": "code",
        "colab": {
          "base_uri": "https://localhost:8080/",
          "height": 168
        },
        "outputId": "6d01d98d-976c-4cb9-bdb1-96c7588a3e7e"
      },
      "source": [
        "flag = True\n",
        "\n",
        "def div(a, b):  \n",
        "       try:\n",
        "            print(\"Finally the division of %d/%d is %f\" % (a, b,a/b))\n",
        "            global flag\n",
        "            flag=False\n",
        "       except ZeroDivisionError:\n",
        "            print(\"Zero Division Error detected\")\n",
        "       else:\n",
        "            print(\"Division is successful\") \n",
        "       finally:\n",
        "            if flag is True:\n",
        "               print(\"Try again\")     \n",
        "            else:\n",
        "               print(\"Thank you\")\n",
        "       \n",
        "#global flag\n",
        "\n",
        "while flag is True:\n",
        "    div(int(input(\"Enter numerator\")),int(input(\"Enter denominator\")))"
      ],
      "execution_count": 10,
      "outputs": [
        {
          "output_type": "stream",
          "text": [
            "Enter numerator6\n",
            "Enter denominator0\n",
            "Zero Division Error detected\n",
            "Try again\n",
            "Enter numerator8\n",
            "Enter denominator4\n",
            "Finally the division of 8/4 is 2.000000\n",
            "Division is successful\n",
            "Thank you\n"
          ],
          "name": "stdout"
        }
      ]
    },
    {
      "cell_type": "markdown",
      "metadata": {
        "id": "1aqJUenf4OzG",
        "colab_type": "text"
      },
      "source": [
        "#Program for ValueError error detection."
      ]
    },
    {
      "cell_type": "code",
      "metadata": {
        "id": "GN2Rgr8z4ZuB",
        "colab_type": "code",
        "colab": {
          "base_uri": "https://localhost:8080/",
          "height": 84
        },
        "outputId": "05a32b80-d201-4e35-acf2-8b444f3df854"
      },
      "source": [
        "while True:\n",
        "     try:\n",
        "         x = int(input(\"Please enter a number: \"))\n",
        "         print(\" That was valid number. Thank you\")\n",
        "         break\n",
        "     except ValueError:\n",
        "         print(\"Oops!  That was no valid number.  Try again...\")"
      ],
      "execution_count": 12,
      "outputs": [
        {
          "output_type": "stream",
          "text": [
            "Please enter a number: 1.568\n",
            "Oops!  That was no valid number.  Try again...\n",
            "Please enter a number: 63\n",
            " That was valid number. Thank you\n"
          ],
          "name": "stdout"
        }
      ]
    }
  ]
}